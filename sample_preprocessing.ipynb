{
 "cells": [
  {
   "cell_type": "code",
   "execution_count": 3,
   "id": "6240572b-d082-41c9-b987-f2db2a3e531f",
   "metadata": {},
   "outputs": [
    {
     "name": "stdout",
     "output_type": "stream",
     "text": [
      "['text']\n"
     ]
    }
   ],
   "source": [
    "import spacy\n",
    "\n",
    "nlp = spacy.load(\"en_core_web_sm\")\n",
    "\n",
    "# type the sample text\n",
    "doc = nlp(\"text\")\n",
    "\n",
    "# Filter out stop words and print lemmatized non-stop words\n",
    "filtered_tokens = [token.text.lower() for token in doc if not token.is_stop and token.pos_ in ['VERB', 'NUM', 'PROPN', 'NOUN', 'ADJ']]\n",
    "print(filtered_tokens)"
   ]
  },
  {
   "cell_type": "code",
   "execution_count": 1,
   "id": "fc0e0c40-e349-4ba7-a780-71e5185506dc",
   "metadata": {},
   "outputs": [
    {
     "name": "stdout",
     "output_type": "stream",
     "text": [
      "['story', 'translation', 'essay', 'follow', 'serve', 'purpose', 'span', 'year', 'story', 'offer', 'glimpse', 'development', 'accomplished', 'writer', 'short', 'fiction', 'modern', 'korea', 'story', 'distinct', 'sick', 'butterfly', 'pyŏngdŭn', 'nabi', 'spring', '1942', 'date', 'composition', 'tell', 'limited', 'person', 'perspective', 'hwang', 'perfect', 'school', 'blind', 'mute', 'maengawŏn', 'esŏ', '1953', 'reflect', 'considerable', 'insight', 'human', 'psychology', 'tale', 'bamboo', 'wife', 'na', 'chukpuin', 'chŏn', 'july', '1985', 'hint', 'hwang', 'gift', 'storyteller', 'similarity', 'author', 'imagination', 'border', 'surreal', 'work', 'precision', 'composition', 'ear', 'spoken', 'word']\n"
     ]
    }
   ],
   "source": [
    "import spacy\n",
    "\n",
    "nlp = spacy.load(\"en_core_web_sm\")\n",
    "\n",
    "# Azalea: Journal Of Korean Literature & Culture, V.8 3 stories\n",
    "doc = nlp(\"The three story translations and two essays that follow serve several purposes. First, spanning more than forty years, the three stories offer us a glimpse of the development of arguably the most accomplished writer of short fiction in modern Korea. Each story is distinct: “The Sick Butterfly” (Pyŏngdŭn nabi, spring 1942 [date of composition]) is told from the limited third-person perspective that Hwang perfected early on; “At the School for the Blind and Mute” (Maengawŏn esŏ, May 1953) reflects his considerable insight into human psychology; and “My Tale of the Bamboo Wife” (Na ŭi chukpuin chŏn, July 1985) hints at Hwang’s gifts as a storyteller. There are similarities as well: the author’s imagination, bordering on the surreal in several of his works; the precision of his composition; and his ear for the spoken word.\")\n",
    "\n",
    "# Filter out stop words and print lemmatized non-stop words\n",
    "filtered_tokens = [token.lemma_.lower() for token in doc if not token.is_stop and token.pos_ in ['VERB', 'NUM', 'PROPN', 'NOUN', 'ADJ']]\n",
    "print(filtered_tokens)"
   ]
  },
  {
   "cell_type": "code",
   "execution_count": 4,
   "id": "fff96a84-b19b-41b5-a7ec-99803213f62e",
   "metadata": {},
   "outputs": [
    {
     "name": "stdout",
     "output_type": "stream",
     "text": [
      "['readymade', 'bodhisattva', 'kaya', 'anthology', 'south', 'korean', 'science', 'fiction', 'presents', 'book', 'length', 'english', 'language', 'translation', 'science', 'speculative', 'fiction', 'south', 'korea', 'bringing', '13', 'classic', 'contemporary', 'stories', '1960s', '2010s', 'reimagining', 'asimovian', 'robot', 'walls', 'buddhist', 'temple', 'postapocalyptic', 'showdown', 'south', 'north', 'korean', 'refugees', 'faraway', 'planet', 'fictional', 'recollection', 'disabled', 'woman', 'struggle', 'join', 'international', 'space', 'mission', 'stories', 'showcase', 'thematic', 'stylistic', 'versatility', 'south', 'korean', 'science', 'fiction', 'writers', 'wide', 'array', 'conversant', 'global', 'science', 'fiction', 'tradition', 'thick', 'local', 'historical', 'specificities', 'works', 'resonate', 'popular', 'cultural', 'products', 'south', 'k', 'pop', 'k', 'drama', 'videogames', 'owe', 'appeal', 'pulsating', 'technocultural', 'edge', 'ability', 'play', 'familiar', 'tropes', 'unexpected', 'ways', 'country', 'renowned', 'hi', 'tech', 'industry', 'ultraspeed', 'broadband', 'mired', 'unfinished', 'cold', 'war', 'south', 'korean', 'science', 'fiction', 'offers', 'fresh', 'perspectives', 'global', 'technoindustrial', 'modernity', 'human', 'consequences', 'book', 'features', 'critical', 'introduction', 'essay', 'sf', 'fandom', 'south', 'korea', 'contextualizing', 'information', 'annotations', 'story']\n"
     ]
    }
   ],
   "source": [
    "import spacy\n",
    "\n",
    "nlp = spacy.load(\"en_core_web_sm\")\n",
    "\n",
    "# Readymade Bodhisattva\n",
    "doc = nlp(\"Readymade Bodhisattva: The Kaya Anthology of South Korean Science Fiction presents the first book-length English-language translation of science and speculative fiction from South Korea, bringing together 13 classic and contemporary stories from the 1960s through the 2010s. From the reimagining of an Asimovian robot inside the walls of a Buddhist temple and a postapocalyptic showdown between South and North Korean refugees on a faraway planet to a fictional recollection of a disabled woman's struggle to join an international space mission, these stories showcase the thematic and stylistic versatility of South Korean science-fiction writers in its wide array. At once conversant with the global science-fiction tradition and thick with local historical specificities, their works resonate with other popular cultural products of South Korea―from K-pop and K-drama to videogames, which owe part of their appeal to their pulsating technocultural edge and their ability to play off familiar tropes in unexpected ways. Coming from a country renowned for its hi-tech industry and ultraspeed broadband yet mired in the unfinished Cold War, South Korean science fiction offers us fresh perspectives on global technoindustrial modernity and its human consequences. The book also features a critical introduction, an essay on SF fandom in South Korea, and contextualizing information and annotations for each story.\")\n",
    "\n",
    "# Filter out stop words and print lemmatized non-stop words\n",
    "filtered_tokens = [token.text.lower() for token in doc if not token.is_stop and token.pos_ in ['VERB', 'NUM', 'PROPN', 'NOUN', 'ADJ']]\n",
    "print(filtered_tokens)"
   ]
  },
  {
   "cell_type": "code",
   "execution_count": 5,
   "id": "39287285-c20e-49fe-9a46-df7f83a285d5",
   "metadata": {},
   "outputs": [
    {
     "name": "stdout",
     "output_type": "stream",
     "text": [
      "['eclectic', 'moving', 'enjoyable', 'collection', 'essential', 'introduction', 'korean', 'literature', 'journeying', 'korea', 'dramatic', 'recent', 'past', 'japanese', 'occupation', 'colonial', 'era', 'devastating', 'war', 'north', 'south', 'rapid', 'disorienting', 'urbanization', 'later', 'decades', 'penguin', 'book', 'korean', 'short', 'stories', 'captures', 'years', 'vivid', 'storytelling']\n"
     ]
    }
   ],
   "source": [
    "import spacy\n",
    "\n",
    "nlp = spacy.load(\"en_core_web_sm\")\n",
    "\n",
    "# The Penguin Book of Korean Short Stories\n",
    "doc = nlp(\"This eclectic, moving and richly enjoyable collection is the essential introduction to Korean literature. Journeying through Korea's dramatic recent past, from the Japanese occupation and colonial era to the devastating war between north and south and the rapid, disorienting urbanization of later decades, The Penguin Book of Korean Short Stories captures a hundred years of vivid storytelling.\")\n",
    "\n",
    "# Filter out stop words and print lemmatized non-stop words\n",
    "filtered_tokens = [token.text.lower() for token in doc if not token.is_stop and token.pos_ in ['VERB', 'NUM', 'PROPN', 'NOUN', 'ADJ']]\n",
    "print(filtered_tokens)"
   ]
  },
  {
   "cell_type": "code",
   "execution_count": 6,
   "id": "755ed62a-196b-40db-a7ac-6eb6e4dd3daf",
   "metadata": {},
   "outputs": [
    {
     "name": "stdout",
     "output_type": "stream",
     "text": [
      "['shortlisted', 'international', 'booker', 'prize', 'winner', 'pen', 'heim', 'translation', 'grant', 'cool', 'demented', 'k', 'horror', 'way', 'like', 'ed', 'park', 'author', 'personal', 'days', 'stunning', 'original', 'debut', 'rising', 'star', 'korean', 'literature', 'surreal', 'chilling', 'fables', 'patriarchy', 'capitalism', 'reign', 'big', 'tech', 'absurdist', 'humor', 'literal', 'bite', 'author', 'published', 'united', 'states', 'cursed', 'bunny', 'unique', 'imaginative', 'blending', 'horror', 'sci', 'fi', 'fairytales', 'speculative', 'fiction', 'stories', 'defy', 'categorization', 'turns', 'thought', 'provoking', 'stomach', 'turning', 'monsters', 'shapes', 'furry', 'woodland', 'creatures', 'danger', 'lurks', 'unexpected', 'corners', 'everyday', 'apartment', 'buildings', 'unforgettable', 'collection', 'translated', 'acclaimed', 'anton', 'hur', 'chung', 'absurd', 'haunting', 'universe', 'illuminating', 'ills', 'contemporary', 'society', 'head', 'follows', 'woman', 'haunted', 'bodily', 'waste', 'embodiment', 'takes', 'dystopian', 'gynecology', 'office', 'pregnant', 'woman', 'told', 'find', 'father', 'baby', 'face', 'horrific', 'consequences', 'story', 'follows', 'young', 'monster', 'forced', 'underground', 'fight', 'rings', 'knowing', 'force', 'power', 'titular', 'fable', 'centers', 'cursed', 'lamp', 'approachable', 'shape', 'rabbit', 'fit', 'child', 'bedroom', 'sinister', 'capabilities', 'stories', 'readers', 'torn', 'race', 'savor', 'chung', 'wit', 'frenetic', 'energy', 'page', 'cursed', 'bunny', 'book', 'screams', 'read', 'night', 'passed', 'nearest', 'set', 'hands', 'day']\n"
     ]
    }
   ],
   "source": [
    "import spacy\n",
    "\n",
    "nlp = spacy.load(\"en_core_web_sm\")\n",
    "\n",
    "# Cursed Bunny\n",
    "doc = nlp(\"SHORTLISTED FOR THE INTERNATIONAL BOOKER PRIZE AND WINNER OF A PEN/HEIM TRANSLATION GRANT Cool, brilliantly demented K-horror—just the way I like it! —Ed Park, author of Personal Days A stunning, wildly original debut from a rising star of Korean literature—surreal, chilling fables that take on the patriarchy, capitalism, and the reign of big tech with absurdist humor and a (sometimes literal) bite From an author never before published in the United States, Cursed Bunny is unique and imaginative, blending horror, sci-fi, fairytales, and speculative fiction into stories that defy categorization. By turns thought-provoking and stomach-turning, here monsters take the shapes of furry woodland creatures and danger lurks in unexpected corners of everyday apartment buildings. But in this unforgettable collection, translated by the acclaimed Anton Hur, Chung’s absurd, haunting universe could be our own, illuminating the ills of contemporary society. “The Head” follows a woman haunted by her own bodily waste. “The Embodiment” takes us into a dystopian gynecology office where a pregnant woman is told that she must find a father for her baby or face horrific consequences. Another story follows a young monster, forced into underground fight rings without knowing the force of his own power. The titular fable centers on a cursed lamp in the approachable shape of a rabbit, fit for a child’s bedroom but for its sinister capabilities. No two stories are alike, and readers will be torn whether to race through them or savor Chung’s wit and frenetic energy on every page. Cursed Bunny is a book that screams to be read late into the night and passed on to the nearest set of hands the very next day.\")\n",
    "\n",
    "# Filter out stop words and print lemmatized non-stop words\n",
    "filtered_tokens = [token.text.lower() for token in doc if not token.is_stop and token.pos_ in ['VERB', 'NUM', 'PROPN', 'NOUN', 'ADJ']]\n",
    "print(filtered_tokens)"
   ]
  },
  {
   "cell_type": "code",
   "execution_count": 7,
   "id": "59dbaf25-4a0c-41cd-9eaf-6a674e013eeb",
   "metadata": {},
   "outputs": [
    {
     "name": "stdout",
     "output_type": "stream",
     "text": [
      "['kim', 'jiyoung', 'born', '1982', 'south', 'korean', 'sensation', 'got', 'world', 'talking', 'life', 'story', 'young', 'woman', 'born', 'end', 'twentieth', 'century', 'raises', 'questions', 'endemic', 'misogyny', 'institutional', 'oppression', 'relevant', 'guardian', \"'\", 'look', '2020', 'red', 'magazine', \"can't\", 'wait', 'read', 'book', '2020', 'riveting', 'original', 'uncompromising', 'important', 'book', 'emerged', 'south', 'korea', 'sincehan', 'kang', 'vegetarian', 'book', 'life', 'woman', 'living', 'korea', 'despair', 'ordinary', 'woman', 'takes', 'granted', 'fact', 'special', 'shocking', 'relatable', 'sayaka', 'murata', 'author', 'convenience', 'store', 'woman', 'kim', 'jiyoung', 'girl', 'born', 'mother', 'laws', 'wanted', 'boy', 'kim', 'jiyoung', 'sister', 'share', 'room', 'brother', 'gets', 'kim', 'jiyoung', 'female', 'preyed', 'male', 'teachers', 'school', 'kim', 'jiyoung', 'daughter', 'father', 'blames', 'harassed', 'night', 'kim', 'jiyoung', 'good', 'student', 'internships', 'kim', 'jiyoung', 'model', 'employee', 'overlooked', 'promotion', 'kim', 'jiyoung', 'wife', 'gives', 'career', 'independence', 'life', 'domesticity', 'kim', 'jiyoung', 'started', 'acting', 'kim', 'jiyoung', 'depressed', 'kim', 'jiyoung', 'mad', 'kim', 'jiyoung', 'woman', 'kim', 'jiyoung', 'woman', 'witty', 'disturbing', 'book', 'deals', 'sexism', 'mental', 'health', 'issues', 'hypocrisy', 'country', 'young', 'women', 'popping', 'caffeine', 'pills', 'turning', 'jaundiced', 'slave', 'factories', 'helping', 'fund', 'higher', 'education', 'male', 'siblings', 'independent', 'treatise', 'howl', 'anger', 'describes', 'experiences', 'recognisable', 'slim', 'unadorned', 'narrative', 'distils', 'lifetime', 'iniquities', 'sharp', 'punch', 'books', 'demonstrates', 'unfairness', 'female', 'experience', 'sheer', 'difficulty', 'improving', 'sunday', 'times']\n"
     ]
    }
   ],
   "source": [
    "import spacy\n",
    "\n",
    "nlp = spacy.load(\"en_core_web_sm\")\n",
    "\n",
    "# Kim Jiyoung, Born 1982\n",
    "doc = nlp(\"Kim Jiyoung, Born 1982 is the South Korean sensation that has got the whole world talking. The life story of one young woman born at the end of the twentieth century raises questions about endemic misogyny and institutional oppression that are relevant to us all. A GUARDIAN 'ONE TO LOOK OUT FOR 2020' A RED MAGAZINE 'CAN'T WAIT TO READ' BOOK OF 2020 Riveting, original and uncompromising, this is the most important book to have emerged from South Korea sinceHan Kang’s The Vegetarian.  “This is a book about the life of a woman living in Korea; the despair of an ordinary woman which she takes for granted. The fact that it’s not about ‘someone special’ is extremely shocking, while also being incredibly relatable.” Sayaka Murata, author of Convenience Store Woman Kim Jiyoung is a girl born to a mother whose in-laws wanted a boy.Kim Jiyoung is a sister made to share a room while her brother gets one of his own. Kim Jiyoung is a female preyed upon by male teachers at school. Kim Jiyoung is a daughter whose father blames her when she is harassed late at night.   Kim Jiyoung is a good student who doesn’t get put forward for internships. Kim Jiyoung is a model employee but gets overlooked for promotion. Kim Jiyoung is a wife who gives up her career and independence for a life of domesticity.Kim Jiyoung has started acting strangely. Kim Jiyoung is depressed. Kim Jiyoung is mad. Kim Jiyoung is her own woman. Kim Jiyoung is every woman. 'This witty, disturbing book deals with sexism, mental health issues and the hypocrisy of a country where young women are “popping caffeine pills and turning jaundiced” as they slave away in factories helping to fund higher education for male siblings.' The Independent 'A treatise and a howl of anger […] it describes experiences that will be recognisable everywhere. It’s slim, unadorned narrative distils a lifetime’s iniquities into a sharp punch. The books demonstrates the unfairness of the female experience and the sheer difficulty of improving it.’ The Sunday Times\")\n",
    "\n",
    "# Filter out stop words and print lemmatized non-stop words\n",
    "filtered_tokens = [token.text.lower() for token in doc if not token.is_stop and token.pos_ in ['VERB', 'NUM', 'PROPN', 'NOUN', 'ADJ']]\n",
    "print(filtered_tokens)"
   ]
  }
 ],
 "metadata": {
  "kernelspec": {
   "display_name": "Python 3 (ipykernel)",
   "language": "python",
   "name": "python3"
  },
  "language_info": {
   "codemirror_mode": {
    "name": "ipython",
    "version": 3
   },
   "file_extension": ".py",
   "mimetype": "text/x-python",
   "name": "python",
   "nbconvert_exporter": "python",
   "pygments_lexer": "ipython3",
   "version": "3.11.4"
  }
 },
 "nbformat": 4,
 "nbformat_minor": 5
}
